{
 "cells": [
  {
   "cell_type": "markdown",
   "metadata": {},
   "source": [
    "# Equations of Motion (Math)\n",
    "\n",
    "We consider N agents with the dynamics\n",
    "\n",
    "$m_i\\ddot{r}_i = \\tau_i$\n",
    "\n",
    "where $r_i \\in \\mathbb{R}^n$ and $i \\in \\{0,\\dots, N-1\\}$\n",
    "\n",
    "Let the state of agent $i$ be given by\n",
    "\n",
    "$s_i = \\begin{bmatrix}r_i\\\\\\dot{r}_i\\end{bmatrix}$\n",
    "\n",
    "# Equations of Motion (English)\n",
    "We consider the motion of point masses (tiny balls). There are N of them in total, and we use $i$ (a number between $0$ and $N-1$) to refer to one of them in particular if we need to. \n",
    "\n",
    "A point mass obeys Newton's law. Mass ($m_i$) times acceleration $\\ddot{r}_i$ equals the force $\\tau_i$ acting on it.\n",
    "\n",
    "The best known version of Newton's law usually considers motion along a line. So you can push (or pull) the ball either forward or backward. This is one dimensional motion: $n=1$. But it also works on a table, where you can push it sideways (two dimensional motion: $n=2$), and in free space, where you can also push it up and down (three dimensional motion: $n=3$).\n",
    "\n",
    "We store the position of the ball in a vector $r_i$, which is a column vector with length $n$. In the case of planar motion ($n=2$), we might consider the motion of a ball on a table top that has a coordinate grid drawn on it. If ball $i$ is at the coordinate ($x = 1, y = 3.14$), we write:\n",
    "\n",
    "$r_i = \\begin{bmatrix}1\\\\3.14\\end{bmatrix}$\n",
    "\n",
    "We have the vectors $r_i$ (position), $\\dot{r}_i$ (velocity), and $\\ddot{r}_i$ (acceleration). Finally, $\\tau_i$ is vector containing the forces acting upon agent $i$. (In the planar example, a forward force and a sideways force.)\n",
    "\n",
    "All the information that characterizes the agent behavior at any given instant is its current state $s_i$, which is the contatenation of the position and the velocity.\n",
    "\n",
    "To keep track of the motion of the particles, we determine the total forces acting on each particle, and use Newton's law to work out the resulting acceleration. In turn, we determine by how much the state changes. At any time, the state change is:\n",
    "\n",
    "$\\dot{s}_i = \\begin{bmatrix}\\dot{r}_i\\\\\\ddot{r}_i\\end{bmatrix}$\n",
    "\n",
    "By integrating $\\dot{s}_i$ over time, we eventually know the state at every time. This completes the simulation.\n",
    "\n",
    "# Equations of Motion (Code)\n"
   ]
  },
  {
   "cell_type": "code",
   "execution_count": 32,
   "metadata": {
    "collapsed": false
   },
   "outputs": [],
   "source": [
    "# Apply Newton's Law to find the acceleration, given the nett force acting on it.\n",
    "def get_r_dotdot_i(r_i, r_dot_i, tau_i, AgentPars):\n",
    "    r_dotdot = tau_i/AgentPars['m_i'] \n",
    "    return r_dotdot\n",
    "\n",
    "def get_s_dot_i(t, s_i, u_i, AgentPars):\n",
    "    # Position dimension\n",
    "    n = AgentPars['n']\n",
    "    # Obtain the current position and velocity from the state\n",
    "    r_i, r_dot_i = [s_i[:n],s_i[n:2*n]]\n",
    "     \n",
    "    # Evaluate the local control law\n",
    "    tau_i = get_tau_i(r_i, r_dot_i, u_i, AgentPars)\n",
    "    \n",
    "    # Obtain the acceleration\n",
    "    r_dotdot_i = get_r_dotdot_i(r_i, r_dot_i, tau_i, AgentPars)\n",
    "    # Obtain the state change\n",
    "    s_dot_i = np.append(r_dot_i, r_dotdot_i)\n",
    "    return s_dot_i"
   ]
  },
  {
   "cell_type": "markdown",
   "metadata": {},
   "source": [
    "# Internal Controller (Math)\n",
    "Each agent has its own controller of the form\n",
    "\n",
    "$\\tau_i = -k_i \\dot{r}_i + u_i$\n",
    "\n",
    "where $k_i \\in \\mathbb{R_{>0}}$ and $u_i$ is an external input.\n",
    "\n",
    "# Internal Controller (English)\n",
    "\n",
    "All agents have to both regulate their own motion and interact with other agents. They regulate their motion by controlling the amount of force $\\tau_i$. They can do this by powering their wheels or firing a rocket, for example.\n",
    "\n",
    "Because we assume that we are living in a frictionless world, the masses would keep moving after putting some force on themselves. To ensure each mass will eventually slow down, it applies a force opposite to its own velocity $-k_i \\dot{r}_i$. This slows it down.  The constant $k_i$ is just a positive number.\n",
    "\n",
    "The term $u_i$ is an interaction force, which we'll design later. This is the force each agent chooses to apply to itself based on what the other agents around it are doing. For example, it could be a force in the direction of another agent, so it moves to toward the other agent.\n",
    "\n",
    "# Internal Controller (Code)"
   ]
  },
  {
   "cell_type": "code",
   "execution_count": 1,
   "metadata": {
    "collapsed": true
   },
   "outputs": [],
   "source": [
    "# Work out what force the internal controller should apply\n",
    "def get_tau_i(r_i, r_dot_i, u_i, AgentPars):\n",
    "    tau_i = -AgentPars['k_i'] * r_dot_i + u_i\n",
    "    return tau_i"
   ]
  },
  {
   "cell_type": "markdown",
   "metadata": {},
   "source": [
    "# External Controller"
   ]
  },
  {
   "cell_type": "code",
   "execution_count": 18,
   "metadata": {
    "collapsed": true
   },
   "outputs": [],
   "source": [
    "# based on neighbor data sent to this agent....\n",
    "\n",
    "def get_u_i():\n",
    "    return 0"
   ]
  }
 ],
 "metadata": {
  "kernelspec": {
   "display_name": "Python 3",
   "language": "python",
   "name": "python3"
  },
  "language_info": {
   "codemirror_mode": {
    "name": "ipython",
    "version": 3
   },
   "file_extension": ".py",
   "mimetype": "text/x-python",
   "name": "python",
   "nbconvert_exporter": "python",
   "pygments_lexer": "ipython3",
   "version": "3.5.2"
  }
 },
 "nbformat": 4,
 "nbformat_minor": 2
}
